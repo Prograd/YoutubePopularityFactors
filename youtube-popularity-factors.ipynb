{
 "cells": [
  {
   "cell_type": "markdown",
   "source": [
    "### How to create a good title for video?"
   ],
   "metadata": {
    "collapsed": false
   }
  },
  {
   "cell_type": "code",
   "execution_count": 114,
   "outputs": [
    {
     "data": {
      "text/plain": "      video_id trending_date  \\\n0  n1WpP7iowLc      17.14.11   \n1  0dBIkQ4Mz1M      17.14.11   \n2  5qpjK5DgCt4      17.14.11   \n3  d380meD0W0M      17.14.11   \n4  2Vv-BfVoq4g      17.14.11   \n\n                                               title channel_title  \\\n0         Eminem - Walk On Water (Audio) ft. Beyoncé    EminemVEVO   \n1                      PLUSH - Bad Unboxing Fan Mail     iDubbbzTV   \n2  Racist Superman | Rudy Mancuso, King Bach & Le...  Rudy Mancuso   \n3                           I Dare You: GOING BALD!?      nigahiga   \n4        Ed Sheeran - Perfect (Official Music Video)    Ed Sheeran   \n\n   category_id              publish_time  \\\n0           10  2017-11-10T17:00:03.000Z   \n1           23  2017-11-13T17:00:00.000Z   \n2           23  2017-11-12T19:05:24.000Z   \n3           24  2017-11-12T18:01:41.000Z   \n4           10  2017-11-09T11:04:14.000Z   \n\n                                                tags     views    likes  \\\n0  Eminem|\"Walk\"|\"On\"|\"Water\"|\"Aftermath/Shady/In...  17158579   787425   \n1  plush|\"bad unboxing\"|\"unboxing\"|\"fan mail\"|\"id...   1014651   127794   \n2  racist superman|\"rudy\"|\"mancuso\"|\"king\"|\"bach\"...   3191434   146035   \n3  ryan|\"higa\"|\"higatv\"|\"nigahiga\"|\"i dare you\"|\"...   2095828   132239   \n4  edsheeran|\"ed sheeran\"|\"acoustic\"|\"live\"|\"cove...  33523622  1634130   \n\n   dislikes  comment_count                                  thumbnail_link  \\\n0     43420         125882  https://i.ytimg.com/vi/n1WpP7iowLc/default.jpg   \n1      1688          13030  https://i.ytimg.com/vi/0dBIkQ4Mz1M/default.jpg   \n2      5339           8181  https://i.ytimg.com/vi/5qpjK5DgCt4/default.jpg   \n3      1989          17518  https://i.ytimg.com/vi/d380meD0W0M/default.jpg   \n4     21082          85067  https://i.ytimg.com/vi/2Vv-BfVoq4g/default.jpg   \n\n   comments_disabled  ratings_disabled  video_error_or_removed  \\\n0              False             False                   False   \n1              False             False                   False   \n2              False             False                   False   \n3              False             False                   False   \n4              False             False                   False   \n\n                                         description  \n0  Eminem's new track Walk on Water ft. Beyoncé i...  \n1  STill got a lot of packages. Probably will las...  \n2  WATCH MY PREVIOUS VIDEO ▶ \\n\\nSUBSCRIBE ► http...  \n3  I know it's been a while since we did this sho...  \n4  🎧: https://ad.gt/yt-perfect\\n💰: https://atlant...  ",
      "text/html": "<div>\n<style scoped>\n    .dataframe tbody tr th:only-of-type {\n        vertical-align: middle;\n    }\n\n    .dataframe tbody tr th {\n        vertical-align: top;\n    }\n\n    .dataframe thead th {\n        text-align: right;\n    }\n</style>\n<table border=\"1\" class=\"dataframe\">\n  <thead>\n    <tr style=\"text-align: right;\">\n      <th></th>\n      <th>video_id</th>\n      <th>trending_date</th>\n      <th>title</th>\n      <th>channel_title</th>\n      <th>category_id</th>\n      <th>publish_time</th>\n      <th>tags</th>\n      <th>views</th>\n      <th>likes</th>\n      <th>dislikes</th>\n      <th>comment_count</th>\n      <th>thumbnail_link</th>\n      <th>comments_disabled</th>\n      <th>ratings_disabled</th>\n      <th>video_error_or_removed</th>\n      <th>description</th>\n    </tr>\n  </thead>\n  <tbody>\n    <tr>\n      <th>0</th>\n      <td>n1WpP7iowLc</td>\n      <td>17.14.11</td>\n      <td>Eminem - Walk On Water (Audio) ft. Beyoncé</td>\n      <td>EminemVEVO</td>\n      <td>10</td>\n      <td>2017-11-10T17:00:03.000Z</td>\n      <td>Eminem|\"Walk\"|\"On\"|\"Water\"|\"Aftermath/Shady/In...</td>\n      <td>17158579</td>\n      <td>787425</td>\n      <td>43420</td>\n      <td>125882</td>\n      <td>https://i.ytimg.com/vi/n1WpP7iowLc/default.jpg</td>\n      <td>False</td>\n      <td>False</td>\n      <td>False</td>\n      <td>Eminem's new track Walk on Water ft. Beyoncé i...</td>\n    </tr>\n    <tr>\n      <th>1</th>\n      <td>0dBIkQ4Mz1M</td>\n      <td>17.14.11</td>\n      <td>PLUSH - Bad Unboxing Fan Mail</td>\n      <td>iDubbbzTV</td>\n      <td>23</td>\n      <td>2017-11-13T17:00:00.000Z</td>\n      <td>plush|\"bad unboxing\"|\"unboxing\"|\"fan mail\"|\"id...</td>\n      <td>1014651</td>\n      <td>127794</td>\n      <td>1688</td>\n      <td>13030</td>\n      <td>https://i.ytimg.com/vi/0dBIkQ4Mz1M/default.jpg</td>\n      <td>False</td>\n      <td>False</td>\n      <td>False</td>\n      <td>STill got a lot of packages. Probably will las...</td>\n    </tr>\n    <tr>\n      <th>2</th>\n      <td>5qpjK5DgCt4</td>\n      <td>17.14.11</td>\n      <td>Racist Superman | Rudy Mancuso, King Bach &amp; Le...</td>\n      <td>Rudy Mancuso</td>\n      <td>23</td>\n      <td>2017-11-12T19:05:24.000Z</td>\n      <td>racist superman|\"rudy\"|\"mancuso\"|\"king\"|\"bach\"...</td>\n      <td>3191434</td>\n      <td>146035</td>\n      <td>5339</td>\n      <td>8181</td>\n      <td>https://i.ytimg.com/vi/5qpjK5DgCt4/default.jpg</td>\n      <td>False</td>\n      <td>False</td>\n      <td>False</td>\n      <td>WATCH MY PREVIOUS VIDEO ▶ \\n\\nSUBSCRIBE ► http...</td>\n    </tr>\n    <tr>\n      <th>3</th>\n      <td>d380meD0W0M</td>\n      <td>17.14.11</td>\n      <td>I Dare You: GOING BALD!?</td>\n      <td>nigahiga</td>\n      <td>24</td>\n      <td>2017-11-12T18:01:41.000Z</td>\n      <td>ryan|\"higa\"|\"higatv\"|\"nigahiga\"|\"i dare you\"|\"...</td>\n      <td>2095828</td>\n      <td>132239</td>\n      <td>1989</td>\n      <td>17518</td>\n      <td>https://i.ytimg.com/vi/d380meD0W0M/default.jpg</td>\n      <td>False</td>\n      <td>False</td>\n      <td>False</td>\n      <td>I know it's been a while since we did this sho...</td>\n    </tr>\n    <tr>\n      <th>4</th>\n      <td>2Vv-BfVoq4g</td>\n      <td>17.14.11</td>\n      <td>Ed Sheeran - Perfect (Official Music Video)</td>\n      <td>Ed Sheeran</td>\n      <td>10</td>\n      <td>2017-11-09T11:04:14.000Z</td>\n      <td>edsheeran|\"ed sheeran\"|\"acoustic\"|\"live\"|\"cove...</td>\n      <td>33523622</td>\n      <td>1634130</td>\n      <td>21082</td>\n      <td>85067</td>\n      <td>https://i.ytimg.com/vi/2Vv-BfVoq4g/default.jpg</td>\n      <td>False</td>\n      <td>False</td>\n      <td>False</td>\n      <td>🎧: https://ad.gt/yt-perfect\\n💰: https://atlant...</td>\n    </tr>\n  </tbody>\n</table>\n</div>"
     },
     "execution_count": 114,
     "metadata": {},
     "output_type": "execute_result"
    }
   ],
   "source": [
    "import pandas as pd\n",
    "\n",
    "british_youtube = pd.read_csv(\"GBvideos.csv\")\n",
    "canadian_youtube = pd.read_csv(\"CAvideos.csv\")\n",
    "us_youtube = pd.read_csv(\"USvideos.csv\")\n",
    "\n",
    "videos = pd.concat([canadian_youtube, british_youtube,us_youtube])\n",
    "videos.head()"
   ],
   "metadata": {
    "collapsed": false,
    "pycharm": {
     "name": "#%%\n"
    }
   }
  },
  {
   "cell_type": "markdown",
   "source": [
    "### What makes videos popular?"
   ],
   "metadata": {
    "collapsed": false
   }
  },
  {
   "cell_type": "code",
   "execution_count": 115,
   "outputs": [
    {
     "data": {
      "text/plain": "<Figure size 432x288 with 2 Axes>",
      "image/png": "[encoded data removed]"
     },
     "metadata": {
      "needs_background": "light"
     },
     "output_type": "display_data"
    }
   ],
   "source": [
    "import seaborn as sn\n",
    "import matplotlib.pyplot as plt\n",
    "\n",
    "\n",
    "class CorrelationMatrix:\n",
    "    def __init__(self, df):\n",
    "        self.df = df\n",
    "\n",
    "    def draw(self):\n",
    "        corr_matrix = self.df[['views', 'likes', 'dislikes', 'comment_count']].corr()\n",
    "        sn.heatmap(corr_matrix, annot=True)\n",
    "        plt.show()\n",
    "\n",
    "\n",
    "CorrelationMatrix(videos).draw()"
   ],
   "metadata": {
    "collapsed": false,
    "pycharm": {
     "name": "#%%\n"
    }
   }
  },
  {
   "cell_type": "code",
   "execution_count": 116,
   "outputs": [
    {
     "data": {
      "text/plain": "                                               title  popular\n0         Eminem - Walk On Water (Audio) ft. Beyoncé        1\n1                      PLUSH - Bad Unboxing Fan Mail        1\n2  Racist Superman | Rudy Mancuso, King Bach & Le...        1\n3                           I Dare You: GOING BALD!?        1\n4        Ed Sheeran - Perfect (Official Music Video)        1",
      "text/html": "<div>\n<style scoped>\n    .dataframe tbody tr th:only-of-type {\n        vertical-align: middle;\n    }\n\n    .dataframe tbody tr th {\n        vertical-align: top;\n    }\n\n    .dataframe thead th {\n        text-align: right;\n    }\n</style>\n<table border=\"1\" class=\"dataframe\">\n  <thead>\n    <tr style=\"text-align: right;\">\n      <th></th>\n      <th>title</th>\n      <th>popular</th>\n    </tr>\n  </thead>\n  <tbody>\n    <tr>\n      <th>0</th>\n      <td>Eminem - Walk On Water (Audio) ft. Beyoncé</td>\n      <td>1</td>\n    </tr>\n    <tr>\n      <th>1</th>\n      <td>PLUSH - Bad Unboxing Fan Mail</td>\n      <td>1</td>\n    </tr>\n    <tr>\n      <th>2</th>\n      <td>Racist Superman | Rudy Mancuso, King Bach &amp; Le...</td>\n      <td>1</td>\n    </tr>\n    <tr>\n      <th>3</th>\n      <td>I Dare You: GOING BALD!?</td>\n      <td>1</td>\n    </tr>\n    <tr>\n      <th>4</th>\n      <td>Ed Sheeran - Perfect (Official Music Video)</td>\n      <td>1</td>\n    </tr>\n  </tbody>\n</table>\n</div>"
     },
     "execution_count": 116,
     "metadata": {},
     "output_type": "execute_result"
    }
   ],
   "source": [
    "class YoutubeNormalizer:\n",
    "\n",
    "    def __init__(self, csv):\n",
    "        self.csv = csv\n",
    "\n",
    "    def decide_about_popular(self):\n",
    "        lots_views = self.csv.views.quantile(0.8)\n",
    "        comments_median = self.csv.comment_count.quantile(0.6)\n",
    "        lots_of_dislike = self.csv.dislikes.quantile(0.8)\n",
    "        self.csv['popular'] = 0\n",
    "        self.csv.loc[(comments_median < self.csv.comment_count) & (self.csv.views > lots_views), 'popular'] = 1\n",
    "        self.csv.loc[(self.csv.dislikes > lots_of_dislike) & (self.csv.likes > self.csv.dislikes), 'popular'] = 1\n",
    "\n",
    "    def get_normalized_data(self):\n",
    "        self.csv.drop_duplicates(subset=\"title\", keep='first', inplace=True)\n",
    "        self.decide_about_popular()\n",
    "        title_with_popular = self.csv[['title', 'popular']]\n",
    "        return title_with_popular\n",
    "\n",
    "\n",
    "normalized_data = YoutubeNormalizer(videos).get_normalized_data()\n",
    "normalized_data.head()"
   ],
   "metadata": {
    "collapsed": false,
    "pycharm": {
     "name": "#%%\n"
    }
   }
  },
  {
   "cell_type": "markdown",
   "source": [
    "### Title Normalization"
   ],
   "metadata": {
    "collapsed": false
   }
  },
  {
   "cell_type": "code",
   "execution_count": 117,
   "outputs": [
    {
     "name": "stderr",
     "output_type": "stream",
     "text": [
      "[nltk_data] Downloading package wordnet to\n",
      "[nltk_data]     C:\\Users\\nowak\\AppData\\Roaming\\nltk_data...\n",
      "[nltk_data]   Package wordnet is already up-to-date!\n",
      "[nltk_data] Downloading package stopwords to\n",
      "[nltk_data]     C:\\Users\\nowak\\AppData\\Roaming\\nltk_data...\n",
      "[nltk_data]   Package stopwords is already up-to-date!\n"
     ]
    },
    {
     "data": {
      "text/plain": "                                             title  popular  word_count  \\\n0                        eminem walk water beyoncé        1           8   \n1                               bad unbox fan mail        1           6   \n2  racist superman rudi mancuso king bach lele pon        1          10   \n3                                          dare go        1           5   \n4                               ed sheeran perfect        1           7   \n\n   char_count  avg_word  stopwords  hastags  numerics  \n0          42  4.375000          0        0         0  \n1          29  4.000000          0        0         0  \n2          53  4.400000          0        0         0  \n3          24  4.000000          0        0         0  \n4          43  5.285714          0        0         0  ",
      "text/html": "<div>\n<style scoped>\n    .dataframe tbody tr th:only-of-type {\n        vertical-align: middle;\n    }\n\n    .dataframe tbody tr th {\n        vertical-align: top;\n    }\n\n    .dataframe thead th {\n        text-align: right;\n    }\n</style>\n<table border=\"1\" class=\"dataframe\">\n  <thead>\n    <tr style=\"text-align: right;\">\n      <th></th>\n      <th>title</th>\n      <th>popular</th>\n      <th>word_count</th>\n      <th>char_count</th>\n      <th>avg_word</th>\n      <th>stopwords</th>\n      <th>hastags</th>\n      <th>numerics</th>\n    </tr>\n  </thead>\n  <tbody>\n    <tr>\n      <th>0</th>\n      <td>eminem walk water beyoncé</td>\n      <td>1</td>\n      <td>8</td>\n      <td>42</td>\n      <td>4.375000</td>\n      <td>0</td>\n      <td>0</td>\n      <td>0</td>\n    </tr>\n    <tr>\n      <th>1</th>\n      <td>bad unbox fan mail</td>\n      <td>1</td>\n      <td>6</td>\n      <td>29</td>\n      <td>4.000000</td>\n      <td>0</td>\n      <td>0</td>\n      <td>0</td>\n    </tr>\n    <tr>\n      <th>2</th>\n      <td>racist superman rudi mancuso king bach lele pon</td>\n      <td>1</td>\n      <td>10</td>\n      <td>53</td>\n      <td>4.400000</td>\n      <td>0</td>\n      <td>0</td>\n      <td>0</td>\n    </tr>\n    <tr>\n      <th>3</th>\n      <td>dare go</td>\n      <td>1</td>\n      <td>5</td>\n      <td>24</td>\n      <td>4.000000</td>\n      <td>0</td>\n      <td>0</td>\n      <td>0</td>\n    </tr>\n    <tr>\n      <th>4</th>\n      <td>ed sheeran perfect</td>\n      <td>1</td>\n      <td>7</td>\n      <td>43</td>\n      <td>5.285714</td>\n      <td>0</td>\n      <td>0</td>\n      <td>0</td>\n    </tr>\n  </tbody>\n</table>\n</div>"
     },
     "execution_count": 117,
     "metadata": {},
     "output_type": "execute_result"
    }
   ],
   "source": [
    "import nltk\n",
    "from nltk.corpus import stopwords\n",
    "from nltk.stem import PorterStemmer\n",
    "from textblob import Word\n",
    "import warnings\n",
    "\n",
    "warnings.filterwarnings('ignore')\n",
    "\n",
    "nltk.download('wordnet')\n",
    "nltk.download('stopwords')\n",
    "\n",
    "stop = stopwords.words('english')\n",
    "st = PorterStemmer()\n",
    "\n",
    "\n",
    "class NormalizedTitle:\n",
    "    def __init__(self, df):\n",
    "        self.df = df\n",
    "\n",
    "    @staticmethod\n",
    "    def avg_word(sentence):\n",
    "        words = sentence.split()\n",
    "        return sum(len(word) for word in words) / len(words)\n",
    "\n",
    "    def parameters_extraction(self):\n",
    "        self.df['word_count'] = self.df['title'].apply(lambda x: len(str(x).split(\" \")))\n",
    "        self.df['char_count'] = self.df['title'].str.len()\n",
    "        self.df['avg_word'] = self.df['title'].apply(lambda x: self.avg_word(x))\n",
    "        self.df['stopwords'] = self.df['title'].apply(lambda x: len([x for x in x.split() if x in stop]))\n",
    "        self.df['hastags'] = self.df['title'].apply(lambda x: len([x for x in x.split() if x.startswith('#')]))\n",
    "        self.df['numerics'] = self.df['title'].apply(lambda x: len([x for x in x.split() if x.isdigit()]))\n",
    "\n",
    "    def text_preparation(self):\n",
    "        self.df['title'] = self.df['title'].apply(lambda x: \" \".join(x.lower() for x in x.split()))\n",
    "        self.df['title'] = self.df['title'].str.replace('[^\\w\\s]', '')\n",
    "        self.df['title'] = self.df['title'].apply(lambda x: \" \".join(x for x in x.split() if x not in stop))\n",
    "        freq = pd.Series(' '.join(self.df['title']).split()).value_counts()\n",
    "        common_words = freq[freq > 250]\n",
    "        common_words = list(common_words.index)\n",
    "        self.df['title'] = self.df['title'].apply(lambda x: \" \".join(x for x in x.split() if x not in common_words))\n",
    "        rare_words = common_words = freq[freq < 5]\n",
    "        rare_words = list(common_words.index)\n",
    "        self.df['title'] = self.df['title'].apply(lambda x: \" \".join(x for x in x.split() if x not in rare_words))\n",
    "        self.df['title'] = self.df['title'].apply(lambda x: \" \".join([st.stem(word) for word in x.split()]))\n",
    "        self.df['title'] = self.df['title'].apply(lambda x: \" \".join([Word(word).lemmatize() for word in x.split()]))\n",
    "\n",
    "    def process(self):\n",
    "        self.parameters_extraction()\n",
    "        self.text_preparation()\n",
    "        return self.df\n",
    "\n",
    "\n",
    "normalized_title = NormalizedTitle(normalized_data).process()\n",
    "normalized_title.head()"
   ],
   "metadata": {
    "collapsed": false,
    "pycharm": {
     "name": "#%%\n"
    }
   }
  },
  {
   "cell_type": "markdown",
   "source": [
    "### Title Vectorization"
   ],
   "metadata": {
    "collapsed": false
   }
  },
  {
   "cell_type": "code",
   "execution_count": 118,
   "outputs": [],
   "source": [
    "from sklearn.feature_extraction.text import CountVectorizer\n",
    "from sklearn.model_selection import train_test_split\n",
    "from sklearn.linear_model import LogisticRegression\n",
    "from sklearn import metrics, naive_bayes, svm, ensemble\n",
    "\n",
    "\n",
    "class TitleVectorization:\n",
    "    def __init__(self, df):\n",
    "        self.df = df\n",
    "\n",
    "    def process(self):\n",
    "        train_df, test_df = train_test_split(\n",
    "            self.df,\n",
    "            test_size=0.1,\n",
    "            stratify=self.df['popular'],\n",
    "        )\n",
    "        vectorizer = CountVectorizer(max_features=1000, lowercase=True, ngram_range=(1, 2), analyzer=\"word\")\n",
    "        vectorizer.fit(train_df)\n",
    "        return train_df, test_df, vectorizer\n",
    "\n",
    "\n",
    "(train_title_popularity, test_title_popularity, vectorizer) = TitleVectorization(normalized_title).process()"
   ],
   "metadata": {
    "collapsed": false,
    "pycharm": {
     "name": "#%%\n"
    }
   }
  },
  {
   "cell_type": "markdown",
   "source": [
    "### Classification and metrics"
   ],
   "metadata": {
    "collapsed": false
   }
  },
  {
   "cell_type": "code",
   "execution_count": 119,
   "outputs": [],
   "source": [
    "class Classification:\n",
    "    def __init__(self, train_df, test_df, vectorizer, strategy):\n",
    "        self.train_df = train_df\n",
    "        self.test_df = test_df\n",
    "        self.vectorizer = vectorizer\n",
    "        if strategy == 'LogisticRegression':\n",
    "            self.model = LogisticRegression(class_weight='balanced', dual=False)\n",
    "        elif strategy == 'NAIVE BAYES':\n",
    "            self.model = naive_bayes.MultinomialNB()\n",
    "        elif strategy == 'SVM':\n",
    "            self.model = svm.SVC()\n",
    "        elif strategy == 'RANDOM FORREST':\n",
    "            self.model = ensemble.RandomForestClassifier()\n",
    "\n",
    "    def train(self):\n",
    "        transformed = vectorizer.transform(self.train_df['title'])\n",
    "        self.model.fit(transformed, self.train_df['popular'])\n",
    "\n",
    "    def show_model_statistic(self):\n",
    "        vectorized = vectorizer.transform(self.test_df['title'])\n",
    "        predicted = self.model.predict(vectorized)\n",
    "        target = self.test_df['popular']\n",
    "        print(metrics.classification_report(target, predicted, digits=4))"
   ],
   "metadata": {
    "collapsed": false,
    "pycharm": {
     "name": "#%%\n"
    }
   }
  },
  {
   "cell_type": "markdown",
   "source": [
    "### Logistic Regression"
   ],
   "metadata": {
    "collapsed": false
   }
  },
  {
   "cell_type": "code",
   "execution_count": 120,
   "outputs": [
    {
     "name": "stdout",
     "output_type": "stream",
     "text": [
      "              precision    recall  f1-score   support\n",
      "\n",
      "           0     0.0000    0.0000    0.0000      2337\n",
      "           1     0.2363    0.9959    0.3819       726\n",
      "\n",
      "    accuracy                         0.2360      3063\n",
      "   macro avg     0.1181    0.4979    0.1910      3063\n",
      "weighted avg     0.0560    0.2360    0.0905      3063\n",
      "\n"
     ]
    }
   ],
   "source": [
    "logistic_regression_classification = Classification(train_df=train_title_popularity, test_df=test_title_popularity, vectorizer=vectorizer,\n",
    "                                                    strategy='LogisticRegression')\n",
    "logistic_regression_classification.train()\n",
    "logistic_regression_classification.show_model_statistic()"
   ],
   "metadata": {
    "collapsed": false,
    "pycharm": {
     "name": "#%%\n"
    }
   }
  },
  {
   "cell_type": "markdown",
   "source": [
    "### NAIVE BAYES"
   ],
   "metadata": {
    "collapsed": false
   }
  },
  {
   "cell_type": "code",
   "execution_count": 121,
   "outputs": [
    {
     "name": "stdout",
     "output_type": "stream",
     "text": [
      "              precision    recall  f1-score   support\n",
      "\n",
      "           0     0.7630    1.0000    0.8656      2337\n",
      "           1     0.0000    0.0000    0.0000       726\n",
      "\n",
      "    accuracy                         0.7630      3063\n",
      "   macro avg     0.3815    0.5000    0.4328      3063\n",
      "weighted avg     0.5821    0.7630    0.6604      3063\n",
      "\n"
     ]
    }
   ],
   "source": [
    "naive_bayes_classification = Classification(train_df=train_title_popularity, test_df=test_title_popularity, vectorizer=vectorizer,\n",
    "               strategy='NAIVE BAYES')\n",
    "naive_bayes_classification.train()\n",
    "naive_bayes_classification.show_model_statistic()"
   ],
   "metadata": {
    "collapsed": false,
    "pycharm": {
     "name": "#%%\n"
    }
   }
  },
  {
   "cell_type": "markdown",
   "source": [
    "### SVM"
   ],
   "metadata": {
    "collapsed": false
   }
  },
  {
   "cell_type": "code",
   "execution_count": 122,
   "outputs": [
    {
     "name": "stdout",
     "output_type": "stream",
     "text": [
      "              precision    recall  f1-score   support\n",
      "\n",
      "           0     0.7630    1.0000    0.8656      2337\n",
      "           1     0.0000    0.0000    0.0000       726\n",
      "\n",
      "    accuracy                         0.7630      3063\n",
      "   macro avg     0.3815    0.5000    0.4328      3063\n",
      "weighted avg     0.5821    0.7630    0.6604      3063\n",
      "\n"
     ]
    }
   ],
   "source": [
    "svm_classification = Classification(train_df=train_title_popularity, test_df=test_title_popularity, vectorizer=vectorizer,\n",
    "               strategy='SVM')\n",
    "svm_classification.train()\n",
    "svm_classification.show_model_statistic()"
   ],
   "metadata": {
    "collapsed": false,
    "pycharm": {
     "name": "#%%\n"
    }
   }
  },
  {
   "cell_type": "markdown",
   "source": [
    "### RANDOM FORREST"
   ],
   "metadata": {
    "collapsed": false
   }
  },
  {
   "cell_type": "code",
   "execution_count": 123,
   "outputs": [
    {
     "name": "stdout",
     "output_type": "stream",
     "text": [
      "              precision    recall  f1-score   support\n",
      "\n",
      "           0     0.7630    1.0000    0.8656      2337\n",
      "           1     0.0000    0.0000    0.0000       726\n",
      "\n",
      "    accuracy                         0.7630      3063\n",
      "   macro avg     0.3815    0.5000    0.4328      3063\n",
      "weighted avg     0.5821    0.7630    0.6604      3063\n",
      "\n"
     ]
    }
   ],
   "source": [
    "random_forest_tree = Classification(train_df=train_title_popularity, test_df=test_title_popularity, vectorizer=vectorizer,\n",
    "               strategy='RANDOM FORREST')\n",
    "random_forest_tree.train()\n",
    "random_forest_tree.show_model_statistic()"
   ],
   "metadata": {
    "collapsed": false,
    "pycharm": {
     "name": "#%%\n"
    }
   }
  }
 ],
 "metadata": {
  "kernelspec": {
   "display_name": "Python 3",
   "language": "python",
   "name": "python3"
  },
  "language_info": {
   "codemirror_mode": {
    "name": "ipython",
    "version": 3
   },
   "file_extension": ".py",
   "mimetype": "text/x-python",
   "name": "python",
   "nbconvert_exporter": "python",
   "pygments_lexer": "ipython3",
   "version": "3.8.5"
  }
 },
 "nbformat": 4,
 "nbformat_minor": 1
}